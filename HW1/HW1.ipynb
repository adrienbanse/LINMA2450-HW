{
 "cells": [
  {
   "cell_type": "code",
   "execution_count": 1,
   "metadata": {},
   "outputs": [
    {
     "name": "stderr",
     "output_type": "stream",
     "text": [
      "┌ Info: Precompiling Gurobi [2e9cd046-0924-5485-92f1-d5272153d98b]\n",
      "└ @ Base loading.jl:1278\n",
      "ERROR: LoadError:     Gurobi not properly installed. Please run Pkg.build(\"Gurobi\"). For\n",
      "    more information go to https://github.com/JuliaOpt/Gurobi.jl\n",
      "\n",
      "Stacktrace:\n",
      " [1] error(::String) at ./error.jl:33\n",
      " [2] top-level scope at /Users/adrienbanse/.julia/packages/Gurobi/7YNJV/src/Gurobi.jl:7\n",
      " [3] include(::Function, ::Module, ::String) at ./Base.jl:380\n",
      " [4] include(::Module, ::String) at ./Base.jl:368\n",
      " [5] top-level scope at none:2\n",
      " [6] eval at ./boot.jl:331 [inlined]\n",
      " [7] eval(::Expr) at ./client.jl:467\n",
      " [8] top-level scope at ./none:3\n",
      "in expression starting at /Users/adrienbanse/.julia/packages/Gurobi/7YNJV/src/Gurobi.jl:4\n"
     ]
    },
    {
     "ename": "LoadError",
     "evalue": "Failed to precompile Gurobi [2e9cd046-0924-5485-92f1-d5272153d98b] to /Users/adrienbanse/.julia/compiled/v1.5/Gurobi/do9v6_mXwqZ.ji.",
     "output_type": "error",
     "traceback": [
      "Failed to precompile Gurobi [2e9cd046-0924-5485-92f1-d5272153d98b] to /Users/adrienbanse/.julia/compiled/v1.5/Gurobi/do9v6_mXwqZ.ji.",
      "",
      "Stacktrace:",
      " [1] error(::String) at ./error.jl:33",
      " [2] compilecache(::Base.PkgId, ::String) at ./loading.jl:1305",
      " [3] _require(::Base.PkgId) at ./loading.jl:1030",
      " [4] require(::Base.PkgId) at ./loading.jl:928",
      " [5] require(::Module, ::Symbol) at ./loading.jl:923",
      " [6] include_string(::Function, ::Module, ::String, ::String) at ./loading.jl:1091",
      " [7] execute_code(::String, ::String) at /Users/adrienbanse/.julia/packages/IJulia/rWZ9e/src/execute_request.jl:27",
      " [8] execute_request(::ZMQ.Socket, ::IJulia.Msg) at /Users/adrienbanse/.julia/packages/IJulia/rWZ9e/src/execute_request.jl:86",
      " [9] #invokelatest#1 at ./essentials.jl:710 [inlined]",
      " [10] invokelatest at ./essentials.jl:709 [inlined]",
      " [11] eventloop(::ZMQ.Socket) at /Users/adrienbanse/.julia/packages/IJulia/rWZ9e/src/eventloop.jl:8",
      " [12] (::IJulia.var\"#15#18\")() at ./task.jl:356"
     ]
    }
   ],
   "source": [
    "using JuMP, Gurobi"
   ]
  },
  {
   "cell_type": "code",
   "execution_count": null,
   "metadata": {},
   "outputs": [],
   "source": []
  }
 ],
 "metadata": {
  "kernelspec": {
   "display_name": "Julia 1.5.2",
   "language": "julia",
   "name": "julia-1.5"
  },
  "language_info": {
   "file_extension": ".jl",
   "mimetype": "application/julia",
   "name": "julia",
   "version": "1.5.2"
  }
 },
 "nbformat": 4,
 "nbformat_minor": 4
}
