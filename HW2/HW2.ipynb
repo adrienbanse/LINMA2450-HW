{
 "cells": [
  {
   "cell_type": "code",
   "execution_count": 142,
   "metadata": {},
   "outputs": [
    {
     "data": {
      "text/plain": [
       "42×42 Array{Int64,2}:\n",
       "   0    1    2    4    7   11   16   22  …  596  631  667  704  742  781  821\n",
       "   1    0    3    5    8   12   17   23     597  632  668  705  743  782  822\n",
       "   2    3    0    6    9   13   18   24     598  633  669  706  744  783  823\n",
       "   4    5    6    0   10   14   19   25     599  634  670  707  745  784  824\n",
       "   7    8    9   10    0   15   20   26     600  635  671  708  746  785  825\n",
       "  11   12   13   14   15    0   21   27  …  601  636  672  709  747  786  826\n",
       "  16   17   18   19   20   21    0   28     602  637  673  710  748  787  827\n",
       "  22   23   24   25   26   27   28    0     603  638  674  711  749  788  828\n",
       "  29   30   31   32   33   34   35   36     604  639  675  712  750  789  829\n",
       "  37   38   39   40   41   42   43   44     605  640  676  713  751  790  830\n",
       "  46   47   48   49   50   51   52   53  …  606  641  677  714  752  791  831\n",
       "  56   57   58   59   60   61   62   63     607  642  678  715  753  792  832\n",
       "  67   68   69   70   71   72   73   74     608  643  679  716  754  793  833\n",
       "   ⋮                        ⋮            ⋱    ⋮                        ⋮  \n",
       " 436  437  438  439  440  441  442  443  …  626  661  697  734  772  811  851\n",
       " 466  467  468  469  470  471  472  473     627  662  698  735  773  812  852\n",
       " 497  498  499  500  501  502  503  504     628  663  699  736  774  813  853\n",
       " 529  530  531  532  533  534  535  536     629  664  700  737  775  814  854\n",
       " 562  563  564  565  566  567  568  569     630  665  701  738  776  815  855\n",
       " 596  597  598  599  600  601  602  603  …    0  666  702  739  777  816  856\n",
       " 631  632  633  634  635  636  637  638     666    0  703  740  778  817  857\n",
       " 667  668  669  670  671  672  673  674     702  703    0  741  779  818  858\n",
       " 704  705  706  707  708  709  710  711     739  740  741    0  780  819  859\n",
       " 742  743  744  745  746  747  748  749     777  778  779  780    0  820  860\n",
       " 781  782  783  784  785  786  787  788  …  816  817  818  819  820    0  861\n",
       " 821  822  823  824  825  826  827  828     856  857  858  859  860  861    0"
      ]
     },
     "execution_count": 142,
     "metadata": {},
     "output_type": "execute_result"
    }
   ],
   "source": [
    "# load data\n",
    "using DelimitedFiles, LinearAlgebra\n",
    "dist = readdlm(\"data42.txt\",Int)\n",
    "\n",
    "#dist = [[0 1 2 3]\n",
    "#        [1 0 4 5]\n",
    "#        [2 4 0 6]\n",
    "#        [3 5 6 0]]\n",
    "\n",
    "V = size(dist)[1]\n",
    "E = (V-1)*(V) ÷ 2\n",
    "\n",
    "ind = zeros(Int, (V,V)) # construct matrix with 2 Floyd's triangle\n",
    "c = zeros(Int, E) # construct cost vector\n",
    "for i = 2:V\n",
    "    for j = 1:i-1\n",
    "        ind_ij = (i-2)*(i-1) ÷ 2 + j\n",
    "        ind[i,j] = ind_ij\n",
    "        c[ind_ij] = dist[i,j] # Lazy Caterer's sequence + (j-1)\n",
    "    end\n",
    "end\n",
    "\n",
    "ind = ind + transpose(ind)"
   ]
  },
  {
   "cell_type": "code",
   "execution_count": 151,
   "metadata": {},
   "outputs": [
    {
     "name": "stdout",
     "output_type": "stream",
     "text": [
      "\n",
      "--------------------------------------------\n",
      "Warning: your license will expire in 13 days\n",
      "--------------------------------------------\n",
      "\n",
      "Academic license - for non-commercial use only\n",
      "\n",
      "--------------------------------------------\n",
      "Warning: your license will expire in 13 days\n",
      "--------------------------------------------\n",
      "\n",
      "Academic license - for non-commercial use only\n",
      "Gurobi Optimizer version 9.0.3 build v9.0.3rc0 (mac64)\n",
      "Optimize a model with 42 rows, 861 columns and 1722 nonzeros\n",
      "Model fingerprint: 0xd2c837b6\n",
      "Coefficient statistics:\n",
      "  Matrix range     [1e+00, 1e+00]\n",
      "  Objective range  [3e+00, 2e+02]\n",
      "  Bounds range     [1e+00, 1e+00]\n",
      "  RHS range        [2e+00, 2e+00]\n",
      "Iteration    Objective       Primal Inf.    Dual Inf.      Time\n",
      "       0    6.0000000e+00   8.100000e+01   0.000000e+00      0s\n",
      "      55    6.4100000e+02   0.000000e+00   0.000000e+00      0s\n",
      "\n",
      "Solved in 55 iterations and 0.00 seconds\n",
      "Optimal objective  6.410000000e+02\n"
     ]
    },
    {
     "data": {
      "text/plain": [
       "6-element Array{Float64,1}:\n",
       " 0.5\n",
       " 0.5\n",
       " 0.5\n",
       " 0.5\n",
       " 0.5\n",
       " 0.5"
      ]
     },
     "execution_count": 151,
     "metadata": {},
     "output_type": "execute_result"
    }
   ],
   "source": [
    "using Gurobi, JuMP\n",
    "model = Model(with_optimizer(Gurobi.Optimizer))\n",
    "set_optimizer_attribute(model, \"Presolve\", 0)\n",
    "set_optimizer_attribute(model, \"Heuristics\", 0)\n",
    "set_optimizer_attribute(model, \"Cuts\", 0)\n",
    "\n",
    "# define variables and constraints for the initial LP problem\n",
    "@variable(model,0 <= x[1:E] <= 1)\n",
    "@objective(model,Min,sum(c.*x))\n",
    "for i = 1:V \n",
    "    indices = filter!(x -> x ≠ 0,ind[:,i])\n",
    "    @constraint(model,sum(x[indices]) == 2)\n",
    "end\n",
    "\n",
    "optimize!(model)\n",
    "#print(JuMP.value.(x))\n",
    "JuMP.value.(x)[findall(x->(x ≠ 0.0 && x ≠ 1.0), JuMP.value.(x))]"
   ]
  },
  {
   "cell_type": "code",
   "execution_count": null,
   "metadata": {},
   "outputs": [],
   "source": []
  }
 ],
 "metadata": {
  "kernelspec": {
   "display_name": "Julia 1.5.2",
   "language": "julia",
   "name": "julia-1.5"
  },
  "language_info": {
   "file_extension": ".jl",
   "mimetype": "application/julia",
   "name": "julia",
   "version": "1.5.2"
  }
 },
 "nbformat": 4,
 "nbformat_minor": 4
}
